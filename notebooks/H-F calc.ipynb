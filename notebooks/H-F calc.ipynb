{
 "cells": [
  {
   "cell_type": "code",
   "execution_count": 1,
   "metadata": {},
   "outputs": [
    {
     "name": "stdout",
     "output_type": "stream",
     "text": [
      "Requirement already satisfied: pyscf in /usr/local/python/3.12.1/lib/python3.12/site-packages (2.7.0)\n",
      "Requirement already satisfied: numpy!=1.16,!=1.17,>=1.13 in /usr/local/python/3.12.1/lib/python3.12/site-packages (from pyscf) (1.26.4)\n",
      "Requirement already satisfied: scipy>=1.6.0 in /home/codespace/.local/lib/python3.12/site-packages (from pyscf) (1.14.1)\n",
      "Requirement already satisfied: h5py>=2.7 in /usr/local/python/3.12.1/lib/python3.12/site-packages (from pyscf) (3.12.1)\n",
      "Requirement already satisfied: setuptools in /home/codespace/.local/lib/python3.12/site-packages (from pyscf) (75.2.0)\n",
      "\n",
      "\u001b[1m[\u001b[0m\u001b[34;49mnotice\u001b[0m\u001b[1;39;49m]\u001b[0m\u001b[39;49m A new release of pip is available: \u001b[0m\u001b[31;49m24.2\u001b[0m\u001b[39;49m -> \u001b[0m\u001b[32;49m24.3.1\u001b[0m\n",
      "\u001b[1m[\u001b[0m\u001b[34;49mnotice\u001b[0m\u001b[1;39;49m]\u001b[0m\u001b[39;49m To update, run: \u001b[0m\u001b[32;49mpython3 -m pip install --upgrade pip\u001b[0m\n"
     ]
    }
   ],
   "source": [
    "!pip install pyscf"
   ]
  },
  {
   "cell_type": "code",
   "execution_count": 2,
   "metadata": {},
   "outputs": [
    {
     "name": "stdout",
     "output_type": "stream",
     "text": [
      "converged SCF energy = -455.134496044868\n",
      "Hartree-Fock electronic energy of HCl: -455.134496 Hartree (-12384.846826 eV)\n"
     ]
    }
   ],
   "source": [
    "try:\n",
    "    from pyscf import gto, scf\n",
    "except ModuleNotFoundError as e:\n",
    "    print(\"PySCF module not found. Please install it using 'pip install pyscf' in your terminal and try again.\")\n",
    "    raise e\n",
    "\n",
    "def calculate_hartree_fock_energy():\n",
    "    # Define the molecular structure of HCl\n",
    "    mol = gto.M(\n",
    "        atom=\"\"\"\n",
    "        H 0.0 0.0 0.0\n",
    "        Cl 0.0 0.0 1.27\n",
    "        \"\"\",  # Approximate bond length in Angstroms\n",
    "        basis='sto-3g',  # Use a minimal STO-3G basis set\n",
    "        unit='Angstrom',\n",
    "        charge=0,  # Neutral molecule\n",
    "        spin=0     # Singlet state (number of unpaired electrons)\n",
    "    )\n",
    "\n",
    "    # Validate bond length for HCl\n",
    "    bond_length = 1.27  # in Angstroms (adjust as necessary)\n",
    "    if bond_length <= 0.5 or bond_length >= 3.0:\n",
    "        raise ValueError(\"Bond length for HCl is outside the typical range (0.5-3.0 Angstroms). Check your input.\")\n",
    "\n",
    "    # Perform Hartree-Fock calculation\n",
    "    hf = scf.RHF(mol)  # Ensure molecule is closed-shell and suitable for RHF\n",
    "    if mol.spin != 0:\n",
    "        raise ValueError(\"Molecule spin is not zero. RHF is suitable only for closed-shell systems.\")\n",
    "\n",
    "    # Compute the Hartree-Fock electronic energy\n",
    "    electronic_energy = hf.kernel()\n",
    "\n",
    "    # Convert energy to electron volts (1 Hartree = 27.2114 eV)\n",
    "    energy_ev = electronic_energy * 27.2114\n",
    "\n",
    "    print(f\"Hartree-Fock electronic energy of HCl: {electronic_energy:.6f} Hartree ({energy_ev:.6f} eV)\")\n",
    "\n",
    "if __name__ == \"__main__\":\n",
    "    calculate_hartree_fock_energy()\n"
   ]
  }
 ],
 "metadata": {
  "kernelspec": {
   "display_name": "Python 3",
   "language": "python",
   "name": "python3"
  },
  "language_info": {
   "codemirror_mode": {
    "name": "ipython",
    "version": 3
   },
   "file_extension": ".py",
   "mimetype": "text/x-python",
   "name": "python",
   "nbconvert_exporter": "python",
   "pygments_lexer": "ipython3",
   "version": "3.12.1"
  }
 },
 "nbformat": 4,
 "nbformat_minor": 2
}
